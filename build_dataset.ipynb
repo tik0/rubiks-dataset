{
 "cells": [
  {
   "cell_type": "code",
   "execution_count": 1,
   "metadata": {},
   "outputs": [],
   "source": [
    "'''This script demonstrates how to build the data set for rubiks\n",
    "'''\n",
    "import warnings\n",
    "import sys, os\n",
    "from glob import glob\n",
    "import numpy as np\n",
    "np.random.seed(0)\n",
    "import matplotlib.pyplot as plt\n",
    "from scipy.stats import norm\n",
    "from skimage.transform import resize\n",
    "import csv\n",
    "\n",
    "data_dir = 'asset'\n",
    "num_data = 19 # samples per viewpoint use for augmentation\n",
    "\n",
    "# These values are allowed to change\n",
    "num_tuples = int(10000) # number of actions which will be created\n",
    "target_size = (30, 40)  # target image size\n"
   ]
  },
  {
   "cell_type": "code",
   "execution_count": 2,
   "metadata": {},
   "outputs": [],
   "source": [
    "# Define \n",
    "\n",
    "sample_folders =  ['bag_front_state_blue',\n",
    "'bag_front_state_green',\n",
    "'bag_front_state_orange',\n",
    "'bag_front_state_red',\n",
    "'bag_front_state_white',\n",
    "'bag_front_state_yellow',\n",
    "'bag_left_state_blue',\n",
    "'bag_left_state_green',\n",
    "'bag_left_state_orange',\n",
    "'bag_left_state_red',\n",
    "'bag_left_state_white',\n",
    "'bag_left_state_yellow',\n",
    "'bag_right_state_blue',\n",
    "'bag_right_state_green',\n",
    "'bag_right_state_orange',\n",
    "'bag_right_state_red',\n",
    "'bag_right_state_white',\n",
    "'bag_right_state_yellow']\n",
    "\n",
    "def sample_cube_state(num_samples):\n",
    "    ''' Sampling of the different cube states '''\n",
    "    cube_colors = ['red', 'white', 'green', 'orange', 'yellow', 'blue']\n",
    "    cube_opposit_sides = [['blue', 'green'], ['white','yellow'], ['orange','red'], ['green', 'blue'], ['yellow', 'white'], ['red', 'orange']]\n",
    "    cube_states = {'left': [], 'front': [], 'right': []}\n",
    "    # sample left color\n",
    "    lookup_cube_colors = np.random.randint(0, high=len(cube_colors), size=num_samples)\n",
    "    for idx in lookup_cube_colors:\n",
    "        # Add the left view color\n",
    "        cube_states['left'].append(cube_colors[idx])\n",
    "        # Get the color of the opposit side\n",
    "        cube_opposit_side_color = [color[1] for color in cube_opposit_sides if color[0] == cube_colors[idx]]\n",
    "        cube_states['right'].append(cube_opposit_side_color[0])\n",
    "        # Sample the front view from the remaining colors\n",
    "        cube_colors_wo_left_right = cube_colors.copy()\n",
    "        cube_colors_wo_left_right.remove(cube_states['left'][-1])\n",
    "        cube_colors_wo_left_right.remove(cube_states['right'][-1])\n",
    "        cube_states['front'].append(cube_colors_wo_left_right[np.random.randint(0, high=4, size=1)[0]])\n",
    "    return cube_states\n",
    "\n",
    "def get_iterator(batch_size, data_sub_dir = \"\"):\n",
    "    ''' Data set iterator '''\n",
    "    from tensorflow.keras.preprocessing.image import ImageDataGenerator\n",
    "    train_datagen = ImageDataGenerator(\n",
    "        rescale=1./255,\n",
    "        shear_range=0,\n",
    "        zoom_range=0,\n",
    "        horizontal_flip=False,\n",
    "        width_shift_range=0.0,  # randomly shift images horizontally (fraction of total width)\n",
    "        height_shift_range=0.0)  # randomly shift images vertically (fraction of total height))\n",
    "\n",
    "    train_generator = train_datagen.flow_from_directory(data_dir + \"/\" + data_sub_dir, interpolation='nearest',\n",
    "            color_mode='rgb', shuffle=False, seed=None,\n",
    "            target_size=target_size,\n",
    "            batch_size=batch_size,\n",
    "            #save_to_dir='img_0_augmented',\n",
    "            class_mode=None)\n",
    "    return train_generator\n",
    "\n",
    "   \n",
    "with open(data_dir + \"/actions.csv\", \"r\") as f:\n",
    "    reader = csv.reader(f, delimiter=',')\n",
    "    actions = [[x[0], x[1], float(x[2]), float(x[3]), float(x[4])] for x in list(reader)[1:]]\n",
    "    f.close()\n",
    "    \n",
    "with open(data_dir + \"/colors.csv\", \"r\") as f:\n",
    "    reader = csv.reader(f, delimiter=',')\n",
    "    colors = list(reader)[1:]\n",
    "    f.close()\n"
   ]
  },
  {
   "cell_type": "code",
   "execution_count": 3,
   "metadata": {},
   "outputs": [
    {
     "name": "stdout",
     "output_type": "stream",
     "text": [
      "Found 27 images belonging to 1 classes.\n",
      "Found 25 images belonging to 1 classes.\n",
      "Found 29 images belonging to 1 classes.\n",
      "Found 26 images belonging to 1 classes.\n",
      "Found 30 images belonging to 1 classes.\n",
      "Found 27 images belonging to 1 classes.\n",
      "Found 24 images belonging to 1 classes.\n",
      "Found 20 images belonging to 1 classes.\n",
      "Found 19 images belonging to 1 classes.\n",
      "Found 21 images belonging to 1 classes.\n",
      "Found 27 images belonging to 1 classes.\n",
      "Found 25 images belonging to 1 classes.\n",
      "Found 27 images belonging to 1 classes.\n",
      "Found 24 images belonging to 1 classes.\n",
      "Found 27 images belonging to 1 classes.\n",
      "Found 33 images belonging to 1 classes.\n",
      "Found 49 images belonging to 1 classes.\n",
      "Found 40 images belonging to 1 classes.\n"
     ]
    }
   ],
   "source": [
    "# Read the poses and observations\n",
    "X_train_set = {}\n",
    "for sample_folder in sample_folders:\n",
    "    X_train_set[sample_folder] = get_iterator(num_data, sample_folder).next()"
   ]
  },
  {
   "cell_type": "code",
   "execution_count": 4,
   "metadata": {},
   "outputs": [
    {
     "data": {
      "image/png": "[encoded data removed]",
      "text/plain": [
       "<Figure size 432x288 with 1 Axes>"
      ]
     },
     "metadata": {},
     "output_type": "display_data"
    }
   ],
   "source": [
    "# Show some scaled image\n",
    "plt.imshow(X_train_set['bag_front_state_blue'][0])\n",
    "plt.title('bag_front_state_blue')\n",
    "plt.show()"
   ]
  },
  {
   "cell_type": "code",
   "execution_count": 5,
   "metadata": {},
   "outputs": [
    {
     "data": {
      "image/png": "[encoded data removed]",
      "text/plain": [
       "<Figure size 720x720 with 2 Axes>"
      ]
     },
     "metadata": {},
     "output_type": "display_data"
    },
    {
     "name": "stdout",
     "output_type": "stream",
     "text": [
      "Action Vp 1 -> Vp 2:  [0.5 1.  0. ]\n"
     ]
    }
   ],
   "source": [
    "# Create the action/perception tuples\n",
    "action_train = np.zeros((num_tuples, 3))\n",
    "v1_train = np.zeros((num_tuples, target_size[0], target_size[1], 3))\n",
    "v2_train = np.zeros((num_tuples, target_size[0], target_size[1], 3))\n",
    "cube_states = sample_cube_state(num_samples = num_tuples)\n",
    "\n",
    "lookup = np.random.randint(0, high=len(actions), size=num_tuples)\n",
    "lookup_cube_state = np.random.randint(0, high=num_data, size=num_tuples)\n",
    "\n",
    "for idx_lookup, idx in zip(lookup, range(num_tuples)):\n",
    "    # Get the action for the random sample\n",
    "    v1_text = actions[idx_lookup][0]\n",
    "    v2_text = actions[idx_lookup][1]\n",
    "    action_train[idx] = np.asarray(actions[idx_lookup][2:])\n",
    "    # Get the views for the action sample and a given cube state\n",
    "    random_vp_sample = np.random.randint(0, high=num_data, size=1)\n",
    "    v1_train[idx,:] = X_train_set['bag_' + v1_text + '_state_' + cube_states[v1_text][idx]][random_vp_sample[0]]\n",
    "    random_vp_sample = np.random.randint(0, high=num_data, size=1)\n",
    "    v2_train[idx,:] = X_train_set['bag_' + v2_text + '_state_' + cube_states[v2_text][idx]][random_vp_sample[0]]\n",
    "\n",
    "# Normalize actions\n",
    "action_train = (action_train + 1.) / 2.\n",
    "\n",
    "# Show a tuple\n",
    "idx = 0\n",
    "f, ax = plt.subplots(1,2,figsize=(7.5,7.5), dpi=96)\n",
    "ax[0].imshow(v1_train[idx])\n",
    "ax[1].imshow(v2_train[idx])\n",
    "ax[0].set_title('Vp 1: ' + actions[lookup[idx]][0])\n",
    "ax[1].set_title('Vp 2: ' + actions[lookup[idx]][1])\n",
    "plt.show()\n",
    "print(\"Action Vp 1 -> Vp 2: \", action_train[idx])"
   ]
  }
 ],
 "metadata": {
  "kernelspec": {
   "display_name": "Python 3",
   "language": "python",
   "name": "python3"
  },
  "language_info": {
   "codemirror_mode": {
    "name": "ipython",
    "version": 3
   },
   "file_extension": ".py",
   "mimetype": "text/x-python",
   "name": "python",
   "nbconvert_exporter": "python",
   "pygments_lexer": "ipython3",
   "version": "3.5.2"
  },
  "varInspector": {
   "cols": {
    "lenName": 16,
    "lenType": 16,
    "lenVar": 40
   },
   "kernels_config": {
    "python": {
     "delete_cmd_postfix": "",
     "delete_cmd_prefix": "del ",
     "library": "var_list.py",
     "varRefreshCmd": "print(var_dic_list())"
    },
    "r": {
     "delete_cmd_postfix": ") ",
     "delete_cmd_prefix": "rm(",
     "library": "var_list.r",
     "varRefreshCmd": "cat(var_dic_list()) "
    }
   },
   "position": {
    "height": "693px",
    "left": "1442.97px",
    "right": "20px",
    "top": "172.969px",
    "width": "359px"
   },
   "types_to_exclude": [
    "module",
    "function",
    "builtin_function_or_method",
    "instance",
    "_Feature"
   ],
   "window_display": true
  }
 },
 "nbformat": 4,
 "nbformat_minor": 2
}
